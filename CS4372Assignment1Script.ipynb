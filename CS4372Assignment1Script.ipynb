{
  "nbformat": 4,
  "nbformat_minor": 0,
  "metadata": {
    "colab": {
      "provenance": []
    },
    "kernelspec": {
      "name": "python3",
      "display_name": "Python 3"
    },
    "language_info": {
      "name": "python"
    }
  },
  "cells": [
    {
      "cell_type": "code",
      "execution_count": 2,
      "metadata": {
        "id": "7DY13N9Knb6h"
      },
      "outputs": [],
      "source": [
        "# placing import statements here\n",
        "import pandas as pd\n",
        "import numpy as np\n",
        "import matplotlib.pyplot as plt\n",
        "import seaborn as sns\n",
        "import sklearn as sk\n",
        "from sklearn.linear_model import SGDRegressor\n",
        "import statsmodels.api as sm"
      ]
    },
    {
      "cell_type": "code",
      "source": [
        "# pre-processing here"
      ],
      "metadata": {
        "id": "r1DWdPIioItl"
      },
      "execution_count": null,
      "outputs": []
    },
    {
      "cell_type": "code",
      "source": [
        "# exploratory data analysis here"
      ],
      "metadata": {
        "id": "AKwYa-qsoK4I"
      },
      "execution_count": null,
      "outputs": []
    },
    {
      "cell_type": "code",
      "source": [
        "# modeling here"
      ],
      "metadata": {
        "id": "7_Z5WvmAoNgl"
      },
      "execution_count": null,
      "outputs": []
    },
    {
      "cell_type": "code",
      "source": [
        "# diagnostics here"
      ],
      "metadata": {
        "id": "TKAMgpfloOqC"
      },
      "execution_count": null,
      "outputs": []
    }
  ]
}